{
 "cells": [
  {
   "cell_type": "markdown",
   "metadata": {
    "slideshow": {
     "slide_type": "slide"
    }
   },
   "source": [
    "# Project: Communicate Data Findings with Ford GoBike System Data\n",
    "\n",
    "Haoming Jin"
   ]
  },
  {
   "cell_type": "markdown",
   "metadata": {
    "slideshow": {
     "slide_type": "slide"
    }
   },
   "source": [
    "## Overview\n",
    "In this investigation, we are looking at the time and location of bike rentals in South California. We try to find out the features and patterns of bike rentals provide information which can potentially help future station setup and staff assignment.\n",
    "\n",
    "The data is from the Lyft's Bay Wheels's trip data, which is publicly available, and can be found on this website:\n",
    "\n",
    "https://www.lyft.com/bikes/bay-wheels/system-data\n",
    "\n",
    "The data consists of 5,618,612 entries of bike rental information from July 2017 to Feb 2020, can still updating. Each trip includes the following information: trip duration, start and end time, start and end station name and corresponing locations, bike ID and user type (whether a subscriber or a casual customer).\n",
    "\n",
    "<div style=\"page-break-after: always;\"></div>\n",
    "\\pagebreak"
   ]
  },
  {
   "cell_type": "markdown",
   "metadata": {
    "slideshow": {
     "slide_type": "slide"
    }
   },
   "source": [
    "## Some statistic of all data\n",
    "### Rental Locations\n",
    "\n",
    "Each rental case is ploted on a the map as a blue dot. The rental sites are located in three areas: San Francisco, Oakland and San Jose. The lines shows the seperation of data of different areas:"
   ]
  },
  {
   "cell_type": "markdown",
   "metadata": {
    "slideshow": {
     "slide_type": "slide"
    }
   },
   "source": [
    "![](figures/rental_location_map.png)\n",
    "\n",
    "<div style=\"page-break-after: always;\"></div>\n",
    "\\pagebreak"
   ]
  },
  {
   "cell_type": "markdown",
   "metadata": {
    "slideshow": {
     "slide_type": "slide"
    }
   },
   "source": [
    "### Area Rental Number Comparison\n",
    "\n",
    "The number of rental in San Franciso is much larger than Oakland and San Jose, consisting 75.7% of the total bike rents.\n",
    "\n",
    "![](figures/area_compare.png)"
   ]
  },
  {
   "cell_type": "markdown",
   "metadata": {
    "slideshow": {
     "slide_type": "slide"
    }
   },
   "source": [
    "### Distribution of Rental Time\n",
    "\n",
    "The distribution of rental time is plotted in a log scale, most people rent about 10 minutes.\n",
    "\n",
    "![](figures/duration_distribution.png)\n",
    "\n",
    "<div style=\"page-break-after: always;\"></div>\n",
    "\\pagebreak"
   ]
  },
  {
   "cell_type": "markdown",
   "metadata": {
    "slideshow": {
     "slide_type": "slide"
    }
   },
   "source": [
    "### User type\n",
    "\n",
    "The following plot shows that about 4/5 of the trips are from subscribers, while a much less 1/5 portion are from casual customers.\n",
    "\n",
    "![](figures/user_type_percentage.png)\n",
    "\n",
    "<div style=\"page-break-after: always;\"></div>\n",
    "\\pagebreak"
   ]
  },
  {
   "cell_type": "markdown",
   "metadata": {
    "slideshow": {
     "slide_type": "slide"
    }
   },
   "source": [
    "### Day of Week\n",
    "\n",
    "We can see that much less percentage of bike rentals are on weekends, while for weekdays the percentage for each day is roughly the same.\n",
    "\n",
    "![](figures/day_of_week.png)"
   ]
  },
  {
   "cell_type": "markdown",
   "metadata": {
    "slideshow": {
     "slide_type": "slide"
    }
   },
   "source": [
    "### Time of Day\n",
    "\n",
    "For each day the most rentals happens at around 8 am and 5 pm, which are the rush hours. Also from 6 - 8 am and 3 - 5 pm rentals are more than returns, and from 9 - 10 am and 6 - 8 pm the rentals are less than returns. Which agrees with peoples working schedules.\n",
    "\n",
    "![](figures/hour_of_day.png)\n",
    "\n",
    "<div style=\"page-break-after: always;\"></div>\n",
    "\\pagebreak"
   ]
  },
  {
   "cell_type": "markdown",
   "metadata": {
    "slideshow": {
     "slide_type": "slide"
    }
   },
   "source": [
    "## San Francisco\n",
    "\n",
    "### Most Popular Locations\n",
    "\n",
    "Next, we look in more details for the data in San Fracisco. We can see most rentals happen near the south-east coastal areas, while the rental station to the west in the park and the rental stations to the south away from the financial areas near stony hill are much less visited.\n",
    "![](figures/rental_sf.png)\n",
    "\n",
    "<div style=\"page-break-after: always;\"></div>\n",
    "\\pagebreak"
   ]
  },
  {
   "cell_type": "markdown",
   "metadata": {
    "slideshow": {
     "slide_type": "slide"
    }
   },
   "source": [
    "### Rental Time and Travel Distance\n",
    "\n",
    "I plotted the relation between rental time and the distance between rental station and return station for bike rentals in San Francisco. Most rentals are below 20 minutes, and we can see the travel distance is a linear relation with rental time, with the guideline indicating the travel speed of 12km/h. \n",
    "\n",
    "![](figures/duration_travel_distance.png)"
   ]
  }
 ],
 "metadata": {
  "celltoolbar": "Slideshow",
  "kernelspec": {
   "display_name": "Python 3",
   "language": "python",
   "name": "python3"
  },
  "language_info": {
   "codemirror_mode": {
    "name": "ipython",
    "version": 3
   },
   "file_extension": ".py",
   "mimetype": "text/x-python",
   "name": "python",
   "nbconvert_exporter": "python",
   "pygments_lexer": "ipython3",
   "version": "3.7.6"
  }
 },
 "nbformat": 4,
 "nbformat_minor": 4
}
